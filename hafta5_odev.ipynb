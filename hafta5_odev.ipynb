{
 "cells": [
  {
   "cell_type": "markdown",
   "metadata": {},
   "source": [
    "# EnerjiSa Bootcamp 5.Hafta Ödevi"
   ]
  },
  {
   "cell_type": "markdown",
   "metadata": {},
   "source": [
    "1- One hot encoding modelin görmediği veriye nasıl uygulanır?\n",
    "\n",
    "\tOne hot encoding, kategorik verileri kategorilerine göre 1(True) veya 0(False) ile puanlayarak veri üzerinde çalışmamıza olanak sağlar. \n",
    "\tÖncelikle one hot encoding sci-kit learn kütüphanesi ile kullanılacağı için import edilir.\n",
    "\tSonrasında veriye fit_transform ile one hot encoding fonksiyonu çağrılarak uygulanır.\n",
    "\tVe join ile yeni kolonlar önceki veriye eklenir.\n",
    "\tDummies işlemi ile bu kolonları yeniden isimlendirerek kullanımı ve anlaşılırlığı artırılır.\n"
   ]
  },
  {
   "cell_type": "markdown",
   "metadata": {},
   "source": [
    "2- Labelencoding'de ilgili kolon için ölçeklendirme nasıl yapılır? (Verinin doğru etkisiyle sayısal olarak dönüştürülmesi)\n",
    "\n",
    "\tLabelencoding, sadece numerik olmayan object'ler üzerinde çalışır.\n",
    "\tVerinin ilgili kolonunun değerlerini sıralı sayısal ifadelere çevirir.\n",
    "\tScaling için KNN, SVR veya karar ağacı(decision trees) gibi çeşitli seçenekler vardır.\n",
    "\tDecision tree yöntemi için belirlenen X_train, Y_train'leri fit edip, X_test için predict oluşturulması gerekir.\n",
    "\tY_test ve predict için Mean squared error bulunur.\n",
    "\tBöylece MinMaxScaler, StandardScaler, RobustScaler değerleri bulunmuş olunur.\n"
   ]
  },
  {
   "cell_type": "markdown",
   "metadata": {},
   "source": [
    "3- Imbalance datasette train test split yaparken neleri göz önünde bulundurmalıyız?\n",
    "\n",
    "\tImbalance datasetlerde çoğunluğa göre analiz yapılırken azınlık değerlerde hata alma oranı artar.\n",
    "\tÖncelikle verinin under sampling mi yoksa over sampling mi olduğuna karar verilmeli.\n",
    "\tBu karara göre çeşitli yöntemlerden biri seçilip veriye uygulanabilir.\n",
    "\tDoğru seçim için yol gösterici olabilecek bir github hesabı: https://github.com/scikit-learn-contrib/imbalanced-learn\n"
   ]
  },
  {
   "cell_type": "markdown",
   "metadata": {},
   "source": [
    "4- Validation dataseti (modelin görmediği) nasıl oluşturulur ve nasıl predict etmeye hazır hale getirilir?\n",
    "\n",
    "\tValidation dataset ana hatlarıyla iki şeye bağlıdır.\n",
    "\tBirincisi datadaki sampling sayısına, ikincisi ise eğitmek istenilen veriye.\n",
    "\tHiper parametreler fazla ise validation dataseti geniş bir aralıkta tutulmalı.\n",
    "\tBu dataseti oluşturmak için çeşitli yöntemler kullanılabilir.\n",
    "\tAma en yaygın ve over fitting probleminden sakınmayı sağlayan yöntem K-fold Cross Validation'dır.\n",
    "\tCross Validation yöntemi aynı zamanda Holdout Method olarak da bilinir.\n",
    "\tK-fold Cross Validation yönteminde veri k kadar kümelere ayrılır.\n",
    "\tGenellikle 5 yada 10 değeri  tercih edilir.\n",
    "\tSeçilen k değeri kadar ayrılan kümelerin her birinde hata değeri hesaplanıp, ortalaması alınır.\n",
    "\tMean değeri ne kadar yüksek çıkarsa o kadar iyi, standart sapması da ne kadar düşük çıkarsa o kadar iyi demektir.\n",
    "\tSklearn kütüphanesinden cross_val_predict kullanılarak y_pred oluşturulur.\n",
    "\t\n",
    " -    Örneğin; "
   ]
  },
  {
   "cell_type": "code",
   "execution_count": null,
   "metadata": {},
   "outputs": [],
   "source": [
    "from sklearn import datasets, linear_model\n",
    "from sklearn.model_selection import cross_val_predict\n",
    "conc = datasets.load_conc()\n",
    "X = conc.data[:150]\n",
    "y = conc.target[:150]\n",
    "lasso = linear_model.Lasso()\n",
    "y_pred = cross_val_predict(lasso, X, y, cv=3)"
   ]
  },
  {
   "cell_type": "markdown",
   "metadata": {},
   "source": [
    "5- predict_proba metoduyla oran nasıl hesaplanır ve treshold nasıl değiştirilir?\n",
    "- Örneğin;"
   ]
  },
  {
   "cell_type": "code",
   "execution_count": null,
   "metadata": {},
   "outputs": [],
   "source": [
    "from sklearn.tree import DecisionTreeClassifier\n",
    "clf = DecisionTreeClassifier(random_state = 2)\n",
    "clf.fit(X_train,y_train)\n",
    "# y_pred = clf.predict(X_test)  # default threshold değeri 0.5'dır.\n",
    "y_pred = (clf.predict_proba(X_test)[:,1] >= 0.3).astype(bool) # burada threshold 0.3'dır.\n"
   ]
  },
  {
   "cell_type": "markdown",
   "metadata": {},
   "source": [
    "6- Fraud case'i üzerinde train&test&validation split, encoding, scaling,modelleme çalışmaları \n"
   ]
  },
  {
   "cell_type": "code",
   "execution_count": null,
   "metadata": {},
   "outputs": [],
   "source": []
  }
 ],
 "metadata": {
  "kernelspec": {
   "display_name": "Python 3",
   "language": "python",
   "name": "python3"
  },
  "language_info": {
   "codemirror_mode": {
    "name": "ipython",
    "version": 3
   },
   "file_extension": ".py",
   "mimetype": "text/x-python",
   "name": "python",
   "nbconvert_exporter": "python",
   "pygments_lexer": "ipython3",
   "version": "3.7.3"
  }
 },
 "nbformat": 4,
 "nbformat_minor": 2
}
